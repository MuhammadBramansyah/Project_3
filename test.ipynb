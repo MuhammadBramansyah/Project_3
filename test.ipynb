{
 "cells": [
  {
   "cell_type": "code",
   "execution_count": 1,
   "metadata": {},
   "outputs": [],
   "source": [
    "import pandas as pd\n",
    "import numpy as np\n",
    "\n",
    "import json\n",
    "import os "
   ]
  },
  {
   "cell_type": "code",
   "execution_count": 2,
   "metadata": {},
   "outputs": [],
   "source": [
    "path = os.getcwd()\n",
    "path_data = path + '/data/'\n",
    "\n",
    "data = 'data_covid.json'"
   ]
  },
  {
   "cell_type": "code",
   "execution_count": 3,
   "metadata": {},
   "outputs": [
    {
     "data": {
      "text/plain": [
       "Index(['tanggal', 'kode_prov', 'nama_prov', 'kode_kab', 'nama_kab', 'suspect',\n",
       "       'closecontact', 'probable', 'suspect_diisolasi', 'suspect_discarded',\n",
       "       'closecontact_dikarantina', 'closecontact_discarded',\n",
       "       'probable_diisolasi', 'probable_discarded', 'confirmation',\n",
       "       'confirmation_sembuh', 'confirmation_meninggal', 'suspect_meninggal',\n",
       "       'closecontact_meninggal', 'probable_meninggal'],\n",
       "      dtype='object')"
      ]
     },
     "execution_count": 3,
     "metadata": {},
     "output_type": "execute_result"
    }
   ],
   "source": [
    "with open(path_data + f'{data}') as data:\n",
    "    data = json.load(data)\n",
    "\n",
    "data_results = []\n",
    "for i in data['data']['content']:\n",
    "    data_results.append(i)\n",
    "    \n",
    "#df = pd.DataFrame(data['data']['content'])\n",
    "\n",
    "#df.columns = df.columns.str.strip().str.lower()\n",
    "df = pd.DataFrame(data_results)\n",
    "df.columns = df.columns.str.strip().str.lower()\n",
    "df.columns"
   ]
  },
  {
   "cell_type": "code",
   "execution_count": null,
   "metadata": {},
   "outputs": [],
   "source": []
  }
 ],
 "metadata": {
  "interpreter": {
   "hash": "d406864f2ee78ecc67afccccd0a48c216f41ca3a0f9ca739a0b9d8b15ae422ba"
  },
  "kernelspec": {
   "display_name": "Python 3.10.1 64-bit",
   "language": "python",
   "name": "python3"
  },
  "language_info": {
   "codemirror_mode": {
    "name": "ipython",
    "version": 3
   },
   "file_extension": ".py",
   "mimetype": "text/x-python",
   "name": "python",
   "nbconvert_exporter": "python",
   "pygments_lexer": "ipython3",
   "version": "3.10.1"
  },
  "orig_nbformat": 4
 },
 "nbformat": 4,
 "nbformat_minor": 2
}
